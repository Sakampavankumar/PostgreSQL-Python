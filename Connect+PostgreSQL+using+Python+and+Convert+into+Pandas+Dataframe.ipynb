{
 "cells": [
  {
   "cell_type": "markdown",
   "metadata": {},
   "source": [
    "# STEP 1 : Load the libraries"
   ]
  },
  {
   "cell_type": "code",
   "execution_count": null,
   "metadata": {
    "collapsed": true
   },
   "outputs": [],
   "source": [
    "import psycopg2 #library for connecting Postgresql\n",
    "import pandas.io.sql as psql #library to use sql command and convert extraction into dataframe\n",
    "import pandas as pd # Pandas Dataframe\n",
    "from datetime import datetime #Convert timestamp in datetime formart"
   ]
  },
  {
   "cell_type": "markdown",
   "metadata": {},
   "source": [
    "# STEP 2: Create the function to have dynamic inputs "
   ]
  },
  {
   "cell_type": "code",
   "execution_count": null,
   "metadata": {
    "collapsed": true
   },
   "outputs": [],
   "source": [
    "# Create a Dynamic function - With Inputs \n",
    "# Here Evaluation_Id is the input parameter as it is specific to each client\n",
    "\n",
    "def database_extract(evaluation_id):\n",
    "    format_list = [evaluation_id, ] # This is used in SQL extraction, As SQL command cannot take dynamic inputs, we need to build the command first and then execute\n",
    "    \n",
    "    # Database Parameters\n",
    "    database = \"xxxxxxxxxxxxx\"\n",
    "    hostname = \"xxxxxxxxxxx.compute-1.amazonaws.com\"\n",
    "    port = 5432 \n",
    "    username = \"xxxxxxxxxxxx\" \n",
    "    password = \"xxxxxxxxxxxxxxxx\"\n",
    "    \n",
    "    #Establish connection with the database\n",
    "    myConnection = psycopg2.connect( host=hostname, user=username, password=password, dbname=database )  \n",
    "    \n",
    "    # Read the SQL query and save in the dataframe format\n",
    "    #.format at the end of command is used to build the query first\n",
    "    # \"{}\" in the query would be replaced by EvaluationID before execution of query\n",
    "    dataframe = psql.read_sql(\"SELECT XXXXXXXXXXX\".format(*format_list), myConnection)\n",
    "    \n",
    "    # rename the column names \n",
    "   \n",
    "    dataframe.columns = ['evaluation_id', 'xxxxxxx', 'xxxxxxxx']\n",
    "    \n",
    "    return(dataframe)\n",
    "\n",
    "# Save the output of the function in the variable \n",
    "df_postgresql = database_extract(evaluation_id = 99999)\n"
   ]
  }
 ],
 "metadata": {
  "kernelspec": {
   "display_name": "Python [conda root]",
   "language": "python",
   "name": "conda-root-py"
  },
  "language_info": {
   "codemirror_mode": {
    "name": "ipython",
    "version": 3
   },
   "file_extension": ".py",
   "mimetype": "text/x-python",
   "name": "python",
   "nbconvert_exporter": "python",
   "pygments_lexer": "ipython3",
   "version": "3.5.2"
  }
 },
 "nbformat": 4,
 "nbformat_minor": 1
}
